{
 "cells": [
  {
   "cell_type": "code",
   "execution_count": 1,
   "metadata": {},
   "outputs": [
    {
     "name": "stdout",
     "output_type": "stream",
     "text": [
      "<class 'pandas.core.frame.DataFrame'>\n"
     ]
    }
   ],
   "source": [
    "import pandas as pd\n",
    "from datetime import timedelta\n",
    "\n",
    "df = pd.read_csv(\"assignment.csv\")\n",
    "print(type(df))"
   ]
  },
  {
   "cell_type": "markdown",
   "metadata": {},
   "source": [
    "# cleaning data\n",
    "\n",
    "Removing rows with no entries as assuming any data does not makes sense.\n",
    "\n",
    "Removing few columns as they are not needed for the assignment."
   ]
  },
  {
   "cell_type": "code",
   "execution_count": 2,
   "metadata": {},
   "outputs": [
    {
     "name": "stderr",
     "output_type": "stream",
     "text": [
      "C:\\Users\\sahil\\AppData\\Local\\Temp\\ipykernel_20264\\1727793595.py:5: UserWarning: Could not infer format, so each element will be parsed individually, falling back to `dateutil`. To ensure parsing is consistent and as-expected, please specify a format.\n",
      "  df['Time Out']=pd.to_datetime(df['Time Out'])\n"
     ]
    }
   ],
   "source": [
    "df = df.dropna()\n",
    "df = df.reset_index(drop=True)\n",
    "df = df.drop(['Pay Cycle Start Date','Pay Cycle End Date'],axis=1)\n",
    "df['Time']=pd.to_datetime(df['Time'])\n",
    "df['Time Out']=pd.to_datetime(df['Time Out'])"
   ]
  },
  {
   "cell_type": "markdown",
   "metadata": {},
   "source": [
    "## Employees who have worked for more than 14 hours in a single shift"
   ]
  },
  {
   "cell_type": "code",
   "execution_count": 3,
   "metadata": {},
   "outputs": [
    {
     "name": "stdout",
     "output_type": "stream",
     "text": [
      "[{'Name': 'DeXgadiXXE REdarMe, ChrisMiaW S', 'Position': 'WFS000523'}]\n"
     ]
    }
   ],
   "source": [
    "df['Diff']=df['Time Out'] - df['Time']\n",
    "df['Diff'] = df['Diff'].dt.total_seconds()/3600\n",
    "\n",
    "def getHardWorkers():\n",
    "    HardWorkers=[]\n",
    "    def diff(row):\n",
    "        hours = row['Diff']\n",
    "        if hours>14:\n",
    "            HardWorkers.append({'Name':row['Employee Name'],'Position':row['Position ID']})\n",
    "    df.apply(diff,axis=1)\n",
    "    return HardWorkers\n",
    "print(getHardWorkers())"
   ]
  },
  {
   "cell_type": "markdown",
   "metadata": {},
   "source": [
    "## Employees who have less than 10 hours of time between shifts but greater than 1 hour of work in each shifts\n",
    "\n",
    "** more than 1 hour shifts - less than 10 hours gap - more than 1 hour shift **"
   ]
  },
  {
   "cell_type": "code",
   "execution_count": 4,
   "metadata": {},
   "outputs": [
    {
     "name": "stdout",
     "output_type": "stream",
     "text": [
      "{'Name': 'REsaXiaWE, XAis', 'Position': 'WFS000065'}\n",
      "{'Name': 'Sparks, KeWWeMh', 'Position': 'WFS000101'}\n",
      "{'Name': 'GaXCes, EXias XEpez', 'Position': 'WFS000127'}\n",
      "{'Name': 'CaMaXaWE, CeghaW', 'Position': 'WFS000153'}\n",
      "{'Name': 'Arias, FeXipe', 'Position': 'WFS000170'}\n",
      "{'Name': 'Merrazas, GriaW', 'Position': 'WFS000180'}\n",
      "{'Name': 'GarWes, JAsMiW', 'Position': 'WFS000181'}\n",
      "{'Name': 'FeXix, XeEWeX', 'Position': 'WFS000183'}\n",
      "{'Name': 'HerCEsiXXE, PedrE', 'Position': 'WFS000185'}\n",
      "{'Name': 'Xee, XaCar', 'Position': 'WFS000200'}\n",
      "{'Name': 'GaWks, GryaW', 'Position': 'WFS000226'}\n",
      "{'Name': 'MAake, CasiaWE', 'Position': 'WFS000228'}\n",
      "{'Name': 'SiWgh, MarAWpreeM', 'Position': 'WFS000246'}\n",
      "{'Name': 'DiWh, DaA', 'Position': 'WFS000268'}\n",
      "{'Name': 'ArEsMigAi, AXexaWder', 'Position': 'WFS000306'}\n",
      "{'Name': 'De Xa Cerda, IgWaciE', 'Position': 'WFS000318'}\n",
      "{'Name': 'REdrigAez, PedrE', 'Position': 'WFS000336'}\n",
      "{'Name': 'MraW, WiXXiaC Ha', 'Position': 'WFS000345'}\n",
      "{'Name': 'MAcker, CichaeX', 'Position': 'WFS000360'}\n",
      "{'Name': 'CaMXEck, CEhaCCed', 'Position': 'WFS000362'}\n",
      "{'Name': 'MaXeGi, ACirCasEAd', 'Position': 'WFS000364'}\n",
      "{'Name': 'PayaW, DaWieX', 'Position': 'WFS000368'}\n",
      "{'Name': 'ErMiz, AGigaiX', 'Position': 'WFS000372'}\n",
      "{'Name': 'ErEpeza, JEvaW', 'Position': 'WFS000382'}\n",
      "{'Name': 'VasqAez, AXfredE', 'Position': 'WFS000391'}\n",
      "{'Name': 'SavaWg, JEhW', 'Position': 'WFS000393'}\n",
      "{'Name': 'REdrigAez, XAis', 'Position': 'WFS000412'}\n",
      "{'Name': 'EasMCaW, CichaeX', 'Position': 'WFS000414'}\n",
      "{'Name': 'SiWgh, CaWpreeM', 'Position': 'WFS000418'}\n",
      "{'Name': 'RECerE, SergiE', 'Position': 'WFS000420'}\n",
      "{'Name': 'SiWgh, JaspreeM', 'Position': 'WFS000424'}\n",
      "{'Name': 'SiWgXeMEW, REger', 'Position': 'WFS000426'}\n",
      "{'Name': 'PaXaciE, JEWaMhaW', 'Position': 'WFS000434'}\n",
      "{'Name': 'ErEzcE, SaAX', 'Position': 'WFS000442'}\n",
      "{'Name': 'CercadE, SaAX', 'Position': 'WFS000446'}\n",
      "{'Name': 'CEreira Jr, JEse', 'Position': 'WFS000456'}\n",
      "{'Name': 'AXvarez, Edgar', 'Position': 'WFS000457'}\n",
      "{'Name': 'PaAXE, KyXe', 'Position': 'WFS000460'}\n",
      "{'Name': 'XiWW, JAsMiW', 'Position': 'WFS000462'}\n",
      "{'Name': 'CaXdEWadE, AXfEWsE', 'Position': 'WFS000463'}\n",
      "{'Name': 'CeWdEza, Erik', 'Position': 'WFS000465'}\n",
      "{'Name': 'PerkiWs, MarraWce', 'Position': 'WFS000469'}\n",
      "{'Name': 'GAeWdia, JAaW CarXEs', 'Position': 'WFS000473'}\n",
      "{'Name': 'ZaCEra, Edward', 'Position': 'WFS000477'}\n",
      "{'Name': 'ArevaXE, JEse', 'Position': 'WFS000491'}\n",
      "{'Name': 'CErMes, DEAgXas Farid', 'Position': 'WFS000495'}\n",
      "{'Name': 'CercadE, CrisMiaW', 'Position': 'WFS000496'}\n",
      "{'Name': 'ZaCEra, CigAeX', 'Position': 'WFS000499'}\n",
      "{'Name': 'Caxies, MerreXX', 'Position': 'WFS000500'}\n",
      "{'Name': 'CcRAWWeX, REWaXd Xee', 'Position': 'WFS000501'}\n",
      "{'Name': 'CEMMa, Jessica', 'Position': 'WFS000503'}\n",
      "{'Name': 'REdrigAez, AXexis GAMierrez', 'Position': 'WFS000505'}\n",
      "{'Name': 'Rivera AXcaWMar, GrayaW', 'Position': 'WFS000507'}\n",
      "{'Name': 'EXivares, FeXCaW', 'Position': 'WFS000508'}\n",
      "{'Name': 'ChaCErE, HEXger CarMiWez', 'Position': 'WFS000509'}\n",
      "{'Name': 'WiXXiaCs, MyrreXX', 'Position': 'WFS000511'}\n",
      "{'Name': 'CaraGiXXa, AWMhEWy', 'Position': 'WFS000514'}\n",
      "{'Name': 'GrACfieXd, CErWeXiAs', 'Position': 'WFS000515'}\n",
      "{'Name': 'Perez, EdwiW JiCeWez', 'Position': 'WFS000517'}\n",
      "{'Name': 'ArrAMia, AXexis ArMArE', 'Position': 'WFS000518'}\n",
      "{'Name': 'DiXXard, JEwaWW Cedric', 'Position': 'WFS000519'}\n",
      "{'Name': 'SaWchez PaCpXEWa, CrisMiaW AXGerM', 'Position': 'WFS000521'}\n",
      "{'Name': 'XEpez WAWez, XAis', 'Position': 'WFS000522'}\n",
      "{'Name': 'DeXgadiXXE REdarMe, ChrisMiaW S', 'Position': 'WFS000523'}\n",
      "{'Name': 'CeciWa, SiXvesMre Jr', 'Position': 'WFS000528'}\n",
      "{'Name': 'FaGiaW CiraWda, JEse', 'Position': 'WFS000530'}\n",
      "{'Name': 'HaCiXMEW, DeaWMe DevEW', 'Position': 'WFS000536'}\n",
      "{'Name': 'HAWMer, ViWceWM De PaAX', 'Position': 'WFS000538'}\n",
      "{'Name': 'AXcEcer, ECar JesAs', 'Position': 'WFS000541'}\n",
      "{'Name': 'IWGEAa, JeffersEW', 'Position': 'WFS000546'}\n",
      "{'Name': 'CesiWa CEreWE, KeviW FaGiaW', 'Position': 'WFS000548'}\n",
      "{'Name': 'HEGGie ErMega, SeGasMiaW CichaeX', 'Position': 'WFS000549'}\n",
      "{'Name': 'REdrigAez, GraWdEW AWgeX', 'Position': 'WFS000550'}\n",
      "{'Name': 'Diaz GaXvez, RicardE JEsAe', 'Position': 'WFS000551'}\n",
      "{'Name': 'EsMrada, JEse FeXix', 'Position': 'WFS000552'}\n",
      "{'Name': 'SMrickXaWd, REdWey EAgeWe', 'Position': 'WFS000555'}\n",
      "{'Name': 'RAvaXcaGa GaWAeXEs, DaWieX JesAs', 'Position': 'WFS000556'}\n",
      "{'Name': 'JerEWiCE CEraXes, CarXEs D', 'Position': 'WFS000557'}\n",
      "{'Name': 'CharXes, EGadiah SEraccE Jr', 'Position': 'WFS000566'}\n",
      "{'Name': 'DECiWgAez AviWa, CigAeX AWgeX', 'Position': 'WFS000569'}\n",
      "{'Name': 'CAevas ZavaXa, JErge XAis', 'Position': 'WFS000571'}\n",
      "{'Name': 'XariEs XaWdaverde, XAis ErWesME', 'Position': 'WFS000572'}\n",
      "{'Name': 'VaXderraCa CasMiXXE, Escar FaGiaW', 'Position': 'WFS000573'}\n",
      "{'Name': 'CiGriaW DeXgadE, EXeWa S', 'Position': 'WFS000574'}\n",
      "{'Name': 'CarMer, XyWWeXX DejAaW Jr', 'Position': 'WFS000576'}\n",
      "{'Name': 'SaWchez, ArWAXfE', 'Position': 'WFS000577'}\n",
      "{'Name': 'VasqAez, JEhW SeGasMiaW', 'Position': 'WFS000578'}\n",
      "{'Name': 'GAMierrez, PedrE CigAeX', 'Position': 'WFS000579'}\n",
      "{'Name': 'HerWaWdez SaWchez, AWdrew AWMhEWy', 'Position': 'WFS000581'}\n",
      "{'Name': 'De XEs SaWMEs, JEseph XAis', 'Position': 'WFS000582'}\n",
      "{'Name': 'ViXXa, AXfredE AieXXE', 'Position': 'WFS000583'}\n",
      "{'Name': 'ArCeWMa FXEres, JEWaMhaW', 'Position': 'WFS000584'}\n",
      "{'Name': 'RaCEs HerWaWdez, AdieX ECar', 'Position': 'WFS000585'}\n",
      "{'Name': 'XariEs, Cesar GiEvaWWi', 'Position': 'WFS000587'}\n",
      "{'Name': 'AGeX, WaMhaW REGerM PeWa', 'Position': 'WFS000588'}\n",
      "{'Name': 'WgAyeW, RayCEWd', 'Position': 'WFS000589'}\n"
     ]
    }
   ],
   "source": [
    "def is_same_employee(row1, row2):\n",
    "    return row1['Employee Name'] == row2['Employee Name']\n",
    "\n",
    "def getWorkers(df):\n",
    "    workers = []\n",
    "    for index, row in df.iterrows():\n",
    "        if index > 0 and is_same_employee(row, df.iloc[index - 1]):\n",
    "            shift_diff = row['Time'] - df.iloc[index - 1]['Time Out']\n",
    "            if shift_diff <= pd.Timedelta('10 hours') and (row['Diff'] >= 1 or df.iloc[index - 1]['Diff'] >= 1):\n",
    "                worker_info = {'Name': row['Employee Name'], 'Position': row['Position ID']}\n",
    "                if worker_info not in workers:\n",
    "                    workers.append(worker_info)\n",
    "    \n",
    "    return workers\n",
    "\n",
    "for items in getWorkers(df):\n",
    "    print(items)\n"
   ]
  },
  {
   "cell_type": "markdown",
   "metadata": {},
   "source": [
    "## Worker who has worked for 7 consecutive days."
   ]
  },
  {
   "cell_type": "code",
   "execution_count": 5,
   "metadata": {},
   "outputs": [
    {
     "name": "stdout",
     "output_type": "stream",
     "text": [
      "{'WFS000462', 'XiWW, JAsMiW'}\n"
     ]
    }
   ],
   "source": [
    "def consistentWorker(df, consecutive_days=7):\n",
    "    workers = []\n",
    "\n",
    "    for index, row in df.iterrows():\n",
    "        if index > 0 and is_same_employee(row, df.iloc[index - 1]):\n",
    "            days_diff = (row['Time'] - df.iloc[index - 1]['Time']).days\n",
    "            if days_diff == 1:\n",
    "                if len(workers) == 0 or workers[-1]['Name'] != row['Employee Name']:\n",
    "                    # add worker to the list if shift diff is more than or equal to 1 day \n",
    "                    workers.append({'Name': row['Employee Name'],'Position':row['Position ID'], 'Days': 1})\n",
    "                else:\n",
    "                    workers[-1]['Days'] += 1\n",
    "            elif days_diff > 1:\n",
    "                # Reset consecutive days count if there is a gap\n",
    "                workers[-1]['Days'] = 1\n",
    "        else:\n",
    "            workers.append({'Name': row['Employee Name'],'Position':row['Position ID'], 'Days': 1})\n",
    "    # Filter workers who worked for the specified consecutive days\n",
    "    result = [{worker['Name'],worker['Position']} for worker in workers if worker['Days'] >= consecutive_days]\n",
    "    return result\n",
    "\n",
    "# Example usage:\n",
    "consecutive_workers = consistentWorker(df, consecutive_days=7)\n",
    "for worker in consecutive_workers:\n",
    "    print(worker)"
   ]
  }
 ],
 "metadata": {
  "kernelspec": {
   "display_name": "env",
   "language": "python",
   "name": "python3"
  },
  "language_info": {
   "codemirror_mode": {
    "name": "ipython",
    "version": 3
   },
   "file_extension": ".py",
   "mimetype": "text/x-python",
   "name": "python",
   "nbconvert_exporter": "python",
   "pygments_lexer": "ipython3",
   "version": "3.11.1"
  },
  "orig_nbformat": 4
 },
 "nbformat": 4,
 "nbformat_minor": 2
}
